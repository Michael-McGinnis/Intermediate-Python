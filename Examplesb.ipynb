{
 "cells": [
  {
   "cell_type": "markdown",
   "id": "f6ba98ed-484d-42c9-968f-93d77d6ae913",
   "metadata": {},
   "source": [
    "## Decorators"
   ]
  },
  {
   "cell_type": "code",
   "execution_count": 6,
   "id": "ef115028-377f-430f-91c4-ea3c01876ad9",
   "metadata": {},
   "outputs": [
    {
     "name": "stdout",
     "output_type": "stream",
     "text": [
      "Start\n",
      "Your name is Alex\n",
      "End\n",
      "Start\n",
      "End\n",
      "20\n",
      "Hello Joseph\n",
      "Hello Joseph\n",
      "Hello Joseph\n"
     ]
    }
   ],
   "source": [
    "# A decorator is a design pattern in Python that allows a user to add new functionality to \n",
    "# an existing object without modifying its structure. \n",
    "\n",
    "# Functions are first class objects: defined inside another function, passed as an argument to another function\n",
    "# and returned from another function\n",
    "\n",
    "def start_end_decorator(func):\n",
    "    def wrapper():\n",
    "        print(\"Start\")\n",
    "        func()\n",
    "        print(\"End\")\n",
    "    return wrapper\n",
    "\n",
    "@start_end_decorator\n",
    "def my_func():\n",
    "    print(\"Your name is Alex\")\n",
    "\n",
    "my_func()\n",
    "\n",
    "# If using @start_end_decorator, the next line is not needed    \n",
    "#my_func = start_end_decorator(my_func)\n",
    "\n",
    "# Another example\n",
    "\n",
    "def start_end_decorator(func):\n",
    "    def wrapper(*args, **kwargs):\n",
    "        # Do now\n",
    "        print(\"Start\")\n",
    "        result = func(*args, **kwargs)\n",
    "        print(\"End\")\n",
    "        # Do now\n",
    "        return result\n",
    "    return wrapper\n",
    "\n",
    "@start_end_decorator\n",
    "def add(x):\n",
    "    return x + 10\n",
    "\n",
    "result = add(10)\n",
    "print(result)\n",
    "\n",
    "import functools\n",
    "\n",
    "def repeat(num_times):\n",
    "    def decorator_repeat(func):\n",
    "        @functools.wraps(func)\n",
    "        def wrapper(*args, **kwargs):\n",
    "            for x in range(num_times):\n",
    "                result = func(*args, **kwargs)\n",
    "            return result\n",
    "        return wrapper\n",
    "    return decorator_repeat\n",
    "\n",
    "@repeat(num_times = 3)\n",
    "def greetings(name):\n",
    "    print(f'Hello {name}')\n",
    "\n",
    "greetings(\"Joseph\")"
   ]
  },
  {
   "cell_type": "markdown",
   "id": "620ea52c-f2cc-44df-ae09-ced7395d2183",
   "metadata": {},
   "source": [
    "## Generators"
   ]
  },
  {
   "cell_type": "code",
   "execution_count": 19,
   "id": "bbf554cf-8ae9-4120-b1b0-ae299aad8843",
   "metadata": {},
   "outputs": [
    {
     "name": "stdout",
     "output_type": "stream",
     "text": [
      "20\n",
      "15\n",
      "10\n",
      "[10, 15, 20]\n",
      "Starting\n",
      "3\n",
      "2\n",
      "1\n",
      "[0, 1, 2, 3, 4, 5, 6, 7, 8, 9]\n",
      "45\n",
      "45\n"
     ]
    }
   ],
   "source": [
    "# Generators are functions that returns an iterator that produces a sequence of values \n",
    "# when iterated over. Generators are useful when we want to produce a large sequence of \n",
    "# values, but we don't want to store all of them in memory at once.\n",
    "\n",
    "def my_gen():\n",
    "    yield 20\n",
    "    yield 15\n",
    "    yield 10\n",
    "    \n",
    "generate = my_gen()\n",
    "value = next(generate)\n",
    "print(value)\n",
    "\n",
    "value = next(generate)\n",
    "print(value)\n",
    "\n",
    "value = next(generate)\n",
    "print(value)\n",
    "\n",
    "generate = my_gen()\n",
    "print(sorted(generate))\n",
    "\n",
    "def count_gen(num):\n",
    "    print('Starting')\n",
    "    while num > 0:\n",
    "        yield num\n",
    "        num -= 1\n",
    "cg = count_gen(3)\n",
    "value = (next(cg))\n",
    "print(value)\n",
    "print(next(cg))\n",
    "print(next(cg))\n",
    "\n",
    "# Another example showing that appending to an empty list will use\n",
    "# a lot of memory and is not optimal\n",
    "\n",
    "def first(n):\n",
    "    nums = []\n",
    "    num = 0\n",
    "    while num < n:\n",
    "        nums.append(num)\n",
    "        num += 1\n",
    "    return nums\n",
    "\n",
    "# Using a generator to do the same thing\n",
    "\n",
    "def first_gen(n):\n",
    "    num = 0\n",
    "    while num < n:\n",
    "        yield num\n",
    "        num += 1\n",
    "        \n",
    "print(sum(first(10)))        \n",
    "print(sum(first_gen(10)))"
   ]
  },
  {
   "cell_type": "code",
   "execution_count": null,
   "id": "c90e79b9-3cb3-4f6e-9e84-283278c0d696",
   "metadata": {},
   "outputs": [],
   "source": []
  }
 ],
 "metadata": {
  "kernelspec": {
   "display_name": "Python 3 (ipykernel)",
   "language": "python",
   "name": "python3"
  },
  "language_info": {
   "codemirror_mode": {
    "name": "ipython",
    "version": 3
   },
   "file_extension": ".py",
   "mimetype": "text/x-python",
   "name": "python",
   "nbconvert_exporter": "python",
   "pygments_lexer": "ipython3",
   "version": "3.9.13"
  }
 },
 "nbformat": 4,
 "nbformat_minor": 5
}
